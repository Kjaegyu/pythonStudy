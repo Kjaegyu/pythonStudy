{
 "cells": [
  {
   "cell_type": "code",
   "execution_count": 1,
   "id": "6ca73014",
   "metadata": {},
   "outputs": [
    {
     "name": "stdout",
     "output_type": "stream",
     "text": [
      "반갑습니다.\n",
      "파이썬의 세계로 오신 것을 환영합니다\n"
     ]
    }
   ],
   "source": [
    "print(\"반갑습니다.\")\n",
    "print(\"파이썬의 세계로 오신 것을 환영합니다.\")\n"
   ]
  },
  {
   "cell_type": "code",
   "execution_count": 12,
   "id": "df1b1958",
   "metadata": {
    "scrolled": true
   },
   "outputs": [
    {
     "name": "stdout",
     "output_type": "stream",
     "text": [
      "반갑습니다.\n",
      "파이썬의 세계로 오신 것을 환영합니다.\n",
      "반갑습니다.\n",
      "파이썬의 세계로 오신 것을 환영합니다.\n",
      "반갑습니다.\n",
      "파이썬의 세계로 오신 것을 환영합니다.\n",
      "반갑습니다.\n",
      "파이썬의 세계로 오신 것을 환영합니다.\n"
     ]
    }
   ],
   "source": [
    "def greet():\n",
    "    print(\"반갑습니다.\")\n",
    "    print(\"파이썬의 세계로 오신 것을 환영합니다.\")\n",
    "    \n",
    "greet()\n"
   ]
  },
  {
   "cell_type": "code",
   "execution_count": 34,
   "id": "56833c6a",
   "metadata": {},
   "outputs": [
    {
     "name": "stdout",
     "output_type": "stream",
     "text": [
      "1 + 2 + 3+ 4+ 5 =  15\n",
      "Simple is the best!\n",
      "행복한 파이썬~\n",
      "1 + 2 + 3+ 4+ 5 =  15\n",
      "Simple is the best!\n",
      "행복한 파이썬~\n"
     ]
    }
   ],
   "source": [
    "#연습 문제 세 개의 문장을 담고 있는 함수를 정의하되 이름은 MH라 하자. 그리고 정의했다면 그 함수를 두번 이상 호출해보자\n",
    "def MH():\n",
    "    print(\"1 + 2 + 3+ 4+ 5 = \", 1 + 2 + 3 + 4 + 5)\n",
    "    print(\"Simple is the best!\")\n",
    "    print(\"행복한 파이썬~\")\n",
    "MH()\n",
    "\n",
    "MH()\n"
   ]
  }
 ],
 "metadata": {
  "kernelspec": {
   "display_name": "Python 3 (ipykernel)",
   "language": "python",
   "name": "python3"
  },
  "language_info": {
   "codemirror_mode": {
    "name": "ipython",
    "version": 3
   },
   "file_extension": ".py",
   "mimetype": "text/x-python",
   "name": "python",
   "nbconvert_exporter": "python",
   "pygments_lexer": "ipython3",
   "version": "3.11.3"
  }
 },
 "nbformat": 4,
 "nbformat_minor": 5
}
