{
 "cells": [
  {
   "cell_type": "code",
   "execution_count": 5,
   "id": "b728005a",
   "metadata": {},
   "outputs": [
    {
     "name": "stdout",
     "output_type": "stream",
     "text": [
      "121 797\n"
     ]
    }
   ],
   "source": [
    "x, y = 121, 797\n",
    "print(x ,y)\n"
   ]
  },
  {
   "cell_type": "code",
   "execution_count": 9,
   "id": "648d7622",
   "metadata": {},
   "outputs": [
    {
     "name": "stdout",
     "output_type": "stream",
     "text": [
      "797 797\n"
     ]
    }
   ],
   "source": [
    "x, y = 0, 797\n",
    "x = y\n",
    "print (x, y)"
   ]
  },
  {
   "cell_type": "code",
   "execution_count": 10,
   "id": "a02f1f75",
   "metadata": {},
   "outputs": [
    {
     "name": "stdout",
     "output_type": "stream",
     "text": [
      "797 121\n"
     ]
    }
   ],
   "source": [
    "x , y = 121, 797\n",
    "x, y = y, x\n",
    "print(x, y)"
   ]
  }
 ],
 "metadata": {
  "kernelspec": {
   "display_name": "Python 3 (ipykernel)",
   "language": "python",
   "name": "python3"
  },
  "language_info": {
   "codemirror_mode": {
    "name": "ipython",
    "version": 3
   },
   "file_extension": ".py",
   "mimetype": "text/x-python",
   "name": "python",
   "nbconvert_exporter": "python",
   "pygments_lexer": "ipython3",
   "version": "3.11.3"
  }
 },
 "nbformat": 4,
 "nbformat_minor": 5
}
