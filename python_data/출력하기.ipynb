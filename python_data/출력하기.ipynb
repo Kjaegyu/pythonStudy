{
 "cells": [
  {
   "cell_type": "code",
   "execution_count": 1,
   "id": "c21f19b9",
   "metadata": {},
   "outputs": [],
   "source": [
    "# 오류가 뜰 예제 ,\n",
    "\n",
    "#Hello, World!"
   ]
  },
  {
   "cell_type": "code",
   "execution_count": 2,
   "id": "a5e699fe",
   "metadata": {},
   "outputs": [
    {
     "name": "stdout",
     "output_type": "stream",
     "text": [
      "Hello, World!\n"
     ]
    }
   ],
   "source": [
    "print(\"Hello, World!\")"
   ]
  },
  {
   "cell_type": "code",
   "execution_count": 3,
   "id": "dbb32feb",
   "metadata": {},
   "outputs": [
    {
     "name": "stdout",
     "output_type": "stream",
     "text": [
      "5\n"
     ]
    }
   ],
   "source": [
    "print(5)"
   ]
  },
  {
   "cell_type": "code",
   "execution_count": 4,
   "id": "c54f55a1",
   "metadata": {},
   "outputs": [
    {
     "name": "stdout",
     "output_type": "stream",
     "text": [
      "5\n"
     ]
    }
   ],
   "source": [
    "print(\"5\")"
   ]
  },
  {
   "cell_type": "code",
   "execution_count": 5,
   "id": "8232bcca",
   "metadata": {},
   "outputs": [
    {
     "name": "stdout",
     "output_type": "stream",
     "text": [
      "8\n"
     ]
    }
   ],
   "source": [
    "print(3 + 5)"
   ]
  },
  {
   "cell_type": "code",
   "execution_count": 6,
   "id": "db1124af",
   "metadata": {},
   "outputs": [
    {
     "name": "stdout",
     "output_type": "stream",
     "text": [
      "3 + 5\n"
     ]
    }
   ],
   "source": [
    "#믄자열로 인식함 . \n",
    "print(\"3 + 5\")"
   ]
  },
  {
   "cell_type": "code",
   "execution_count": 7,
   "id": "37b46c4c",
   "metadata": {},
   "outputs": [
    {
     "name": "stdout",
     "output_type": "stream",
     "text": [
      "3 + 5 = 8\n"
     ]
    }
   ],
   "source": [
    "print(\"3 + 5 =\", 8)"
   ]
  },
  {
   "cell_type": "code",
   "execution_count": 8,
   "id": "afae44af",
   "metadata": {},
   "outputs": [
    {
     "name": "stdout",
     "output_type": "stream",
     "text": [
      "1 2 3 Hello World!\n"
     ]
    }
   ],
   "source": [
    "#콤마를 찍어서 출력하고 싶은 것들을 추가로 나열할 수 있다.\n",
    "print(1, 2, 3, \"Hello\", 'World!')"
   ]
  },
  {
   "cell_type": "code",
   "execution_count": 9,
   "id": "684b329e",
   "metadata": {},
   "outputs": [
    {
     "name": "stdout",
     "output_type": "stream",
     "text": [
      "3 + 5 = 8\n"
     ]
    }
   ],
   "source": [
    "#이러한 사실을 안다면, 계산을 시키고 더불어 그 계산 결과를 조금 더 멋지게 출력하는 명려을 다음과 같이 내릴 수 있다.\n",
    "print(\"3 + 5 =\", 3 + 5)"
   ]
  }
 ],
 "metadata": {
  "kernelspec": {
   "display_name": "Python 3 (ipykernel)",
   "language": "python",
   "name": "python3"
  },
  "language_info": {
   "codemirror_mode": {
    "name": "ipython",
    "version": 3
   },
   "file_extension": ".py",
   "mimetype": "text/x-python",
   "name": "python",
   "nbconvert_exporter": "python",
   "pygments_lexer": "ipython3",
   "version": "3.11.3"
  }
 },
 "nbformat": 4,
 "nbformat_minor": 5
}
