{
 "cells": [
  {
   "cell_type": "code",
   "execution_count": 4,
   "id": "f107d6af",
   "metadata": {},
   "outputs": [
    {
     "name": "stdout",
     "output_type": "stream",
     "text": [
      "반갑습니다. john\n",
      "john 님은 파이썬의 세계로 오셨습니다.\n",
      "반갑습니다. Yoon\n",
      "Yoon 님은 파이썬의 세계로 오셨습니다.\n",
      "반갑습니다. Everyone\n",
      "Everyone 님은 파이썬의 세계로 오셨습니다.\n"
     ]
    }
   ],
   "source": [
    "def greet2(name):\n",
    "    print(\"반갑습니다.\", name)\n",
    "    print(name, \"님은 파이썬의 세계로 오셨습니다.\")\n",
    "    \n",
    "greet2(\"john\")\n",
    "greet2(\"Yoon\")\n",
    "\n",
    "greet2(\"Everyone\")"
   ]
  },
  {
   "cell_type": "code",
   "execution_count": 8,
   "id": "ad1e49b5",
   "metadata": {},
   "outputs": [
    {
     "name": "stdout",
     "output_type": "stream",
     "text": [
      "덧셈 결과: 15\n"
     ]
    }
   ],
   "source": [
    "def adder(num1 , num2):\n",
    "    print(\"덧셈 결과:\", num1 + num2)\n",
    "    \n",
    "adder(10, 5)"
   ]
  },
  {
   "cell_type": "code",
   "execution_count": null,
   "id": "89a72714",
   "metadata": {},
   "outputs": [],
   "source": []
  }
 ],
 "metadata": {
  "kernelspec": {
   "display_name": "Python 3 (ipykernel)",
   "language": "python",
   "name": "python3"
  },
  "language_info": {
   "codemirror_mode": {
    "name": "ipython",
    "version": 3
   },
   "file_extension": ".py",
   "mimetype": "text/x-python",
   "name": "python",
   "nbconvert_exporter": "python",
   "pygments_lexer": "ipython3",
   "version": "3.11.3"
  }
 },
 "nbformat": 4,
 "nbformat_minor": 5
}
